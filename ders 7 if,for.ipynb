{
 "cells": [
  {
   "cell_type": "code",
   "execution_count": 10,
   "id": "4437620f",
   "metadata": {},
   "outputs": [
    {
     "name": "stdout",
     "output_type": "stream",
     "text": [
      "Almanya Avrupadadır\n"
     ]
    }
   ],
   "source": [
    "ülke = [\"almanya\",\"türkiye\",\"japonya\"]\n",
    "konum = \"almanya\"\n",
    "\n",
    "if konum == ülke[1] :\n",
    "    print(\"Türkiye iki kıtaya da kıyısı vardır\")\n",
    "    \n",
    "elif konum == ülke[0]:\n",
    "        print(\"Almanya Avrupadadır\")\n",
    "elif konum == ülke[2]:\n",
    "        print(\"Japonya Asya Kıtasının Doğusundadır\")  \n",
    "else:\n",
    "        print(\"Tanımlı değil\")"
   ]
  },
  {
   "cell_type": "code",
   "execution_count": 25,
   "id": "ee5d0d63",
   "metadata": {},
   "outputs": [
    {
     "name": "stdout",
     "output_type": "stream",
     "text": [
      "Sizin Sınıfınız: 5\n"
     ]
    }
   ],
   "source": [
    "yas = 12\n",
    "sınıf = [5,6,7,8,5,4,4,5]\n",
    "if yas == 12:\n",
    "    print(\"Sizin Sınıfınız: {}\".format(sınıf[0]))\n",
    "elif yas == 13:\n",
    "    print(\"Sizin Sınıfınız: {}\".format(sınıf[1]))\n",
    "elif yas == 14:\n",
    "    print(\"Sizin Sınıfınız: {}\".format(sınıf[2]))\n",
    "elif yas == 15:\n",
    "    print(\"Sizin Sınıfınız: {}\".format(sınıf[3]))\n",
    "else:\n",
    "    print(\"Siz Ortaokula gitmiyorsunuz\")"
   ]
  },
  {
   "cell_type": "markdown",
   "id": "760ebd07",
   "metadata": {},
   "source": [
    "*****************************************************************************************************************************"
   ]
  },
  {
   "cell_type": "code",
   "execution_count": 43,
   "id": "5cc5f96a",
   "metadata": {},
   "outputs": [
    {
     "name": "stdout",
     "output_type": "stream",
     "text": [
      "1. İsmi Allihsan , Soyadı Can\n",
      "2. İsmi Efe , Soyadı Şerafettin\n",
      "3. İsmi Selman , Soyadı Goksu\n",
      "4. İsmi Mustafa , Soyadı Yıldız\n",
      "5. İsmi Emine , Soyadı Kara\n"
     ]
    }
   ],
   "source": [
    "seladamlar = [\"Allihsan Can\",\"Efe Şerafettin\",\"Selman Goksu\",\"Mustafa Yıldız\",\"Emine Kara\"]\n",
    "isim_sayisi = 0\n",
    "\n",
    "for kullanicisim in seladamlar:\n",
    "    isim_sayisi += 1\n",
    "    ad = kullanicisim.split()[0]\n",
    "    soyad = kullanicisim.split()[1]\n",
    "    print(\"{0}. İsmi {1} , Soyadı {2}\".format(isim_sayisi,ad,soyad))\n",
    "\n",
    "    "
   ]
  },
  {
   "cell_type": "code",
   "execution_count": 50,
   "id": "2cbe5cea",
   "metadata": {},
   "outputs": [
    {
     "name": "stdout",
     "output_type": "stream",
     "text": [
      "1. İsmi Allihsan , Soyadı Can\n",
      "1. Özel İsmi Efe , Özel Soyadı Şerafettin\n",
      "2. İsmi Selman , Soyadı Goksu\n",
      "3. İsmi Mustafa , Soyadı Yıldız\n",
      "4. İsmi Emine , Soyadı Kara\n"
     ]
    }
   ],
   "source": [
    "özel_kişi = \"Efe Şerafettin\"\n",
    "özel_sayi = 0\n",
    "isim1_sayisi = 0\n",
    "\n",
    "for kullanici in seladamlar:\n",
    "    if kullanici == özel_kişi:\n",
    "        özel_sayi+= 1\n",
    "        ad = özel_kişi.split()[0]\n",
    "        soyad = özel_kişi.split()[1]\n",
    "        print(\"{0}. Özel İsmi {1} , Özel Soyadı {2}\".format(özel_sayi,ad,soyad))\n",
    "    else:\n",
    "        isim1_sayisi += 1\n",
    "        ad = kullanici.split()[0]\n",
    "        soyad = kullanici.split()[1]\n",
    "        print(\"{0}. İsmi {1} , Soyadı {2}\".format(isim1_sayisi,ad,soyad))\n",
    "\n"
   ]
  },
  {
   "cell_type": "markdown",
   "id": "2eaab5cb",
   "metadata": {},
   "source": [
    "NE ZORLADI BE **************************************************************************"
   ]
  },
  {
   "cell_type": "code",
   "execution_count": null,
   "id": "1c34b98b",
   "metadata": {},
   "outputs": [],
   "source": []
  }
 ],
 "metadata": {
  "kernelspec": {
   "display_name": "Python 3 (ipykernel)",
   "language": "python",
   "name": "python3"
  },
  "language_info": {
   "codemirror_mode": {
    "name": "ipython",
    "version": 3
   },
   "file_extension": ".py",
   "mimetype": "text/x-python",
   "name": "python",
   "nbconvert_exporter": "python",
   "pygments_lexer": "ipython3",
   "version": "3.9.13"
  }
 },
 "nbformat": 4,
 "nbformat_minor": 5
}
