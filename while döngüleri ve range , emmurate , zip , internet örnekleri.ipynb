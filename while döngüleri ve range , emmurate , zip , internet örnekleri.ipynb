{
 "cells": [
  {
   "cell_type": "code",
   "execution_count": 1,
   "id": "3d210718",
   "metadata": {},
   "outputs": [
    {
     "name": "stdout",
     "output_type": "stream",
     "text": [
      "5040\n"
     ]
    }
   ],
   "source": [
    "sayi = 7\n",
    "faktöriyel = 1\n",
    "\n",
    "while sayi > 0:\n",
    "    faktöriyel = sayi * faktöriyel\n",
    "    sayi -= 1\n",
    "    \n",
    "    \n",
    "print(faktöriyel)"
   ]
  },
  {
   "cell_type": "markdown",
   "id": "2edd7dcb",
   "metadata": {},
   "source": [
    "RANGE"
   ]
  },
  {
   "cell_type": "code",
   "execution_count": 2,
   "id": "658aa3ef",
   "metadata": {},
   "outputs": [
    {
     "data": {
      "text/plain": [
       "range(0, 10)"
      ]
     },
     "execution_count": 2,
     "metadata": {},
     "output_type": "execute_result"
    }
   ],
   "source": [
    "#range aslında aralıktaki tam sayıları bulmamızı sağlayan bir komut\n",
    "range(10) # açılımı 0,1,2,3,4,5,6,7,8,9"
   ]
  },
  {
   "cell_type": "code",
   "execution_count": 3,
   "id": "946bf998",
   "metadata": {},
   "outputs": [
    {
     "data": {
      "text/plain": [
       "range"
      ]
     },
     "execution_count": 3,
     "metadata": {},
     "output_type": "execute_result"
    }
   ],
   "source": [
    "#range bir veri tipidir\n",
    "type(range(10))"
   ]
  },
  {
   "cell_type": "code",
   "execution_count": 7,
   "id": "079e142a",
   "metadata": {},
   "outputs": [
    {
     "name": "stdout",
     "output_type": "stream",
     "text": [
      "range(0, 7)\n",
      "[1, 2, 4, 5, 6]\n"
     ]
    }
   ],
   "source": [
    "#aynı zamanda listeye de benzer\n",
    "liste = [1,2,4,5,6] \n",
    "print(range(7))\n",
    "print(liste)"
   ]
  },
  {
   "cell_type": "code",
   "execution_count": 8,
   "id": "bbb34eaa",
   "metadata": {},
   "outputs": [
    {
     "data": {
      "text/plain": [
       "[0, 1, 2, 3, 4, 5, 6, 7, 8, 9]"
      ]
     },
     "execution_count": 8,
     "metadata": {},
     "output_type": "execute_result"
    }
   ],
   "source": [
    "#diğer bir yazılışı\n",
    "list(range(10)) #range liste şekilde yazılmasını istediğim için int de olduğu gibi list şekilde list tipinde yazabilirim"
   ]
  },
  {
   "cell_type": "code",
   "execution_count": 9,
   "id": "d8fa92cf",
   "metadata": {},
   "outputs": [
    {
     "data": {
      "text/plain": [
       "list"
      ]
     },
     "execution_count": 9,
     "metadata": {},
     "output_type": "execute_result"
    }
   ],
   "source": [
    "type(list(range(10)))"
   ]
  },
  {
   "cell_type": "code",
   "execution_count": 11,
   "id": "9b1ed518",
   "metadata": {},
   "outputs": [
    {
     "data": {
      "text/plain": [
       "[0, 1, 2, 3, 4, 5, 6, 7, 8, 9]"
      ]
     },
     "execution_count": 11,
     "metadata": {},
     "output_type": "execute_result"
    }
   ],
   "source": [
    "[*range(10)] # bu aslında list(range(10)) demektir"
   ]
  },
  {
   "cell_type": "code",
   "execution_count": 12,
   "id": "cb739639",
   "metadata": {},
   "outputs": [
    {
     "data": {
      "text/plain": [
       "[2, 3, 4, 5, 6, 7, 8]"
      ]
     },
     "execution_count": 12,
     "metadata": {},
     "output_type": "execute_result"
    }
   ],
   "source": [
    "[*range(2,9)]"
   ]
  },
  {
   "cell_type": "markdown",
   "id": "816bf1a6",
   "metadata": {},
   "source": [
    "***********************************************************************************"
   ]
  },
  {
   "cell_type": "markdown",
   "id": "4c4fa70a",
   "metadata": {},
   "source": [
    "ündex = 0\n",
    "x = 5\n",
    "while 4 > 0:\n",
    "    print(range(5)[ündex])\n",
    "    ündex += 1"
   ]
  },
  {
   "cell_type": "code",
   "execution_count": 20,
   "id": "53d2377d",
   "metadata": {},
   "outputs": [
    {
     "name": "stdout",
     "output_type": "stream",
     "text": [
      "0\n",
      "1\n",
      "2\n",
      "3\n",
      "4\n",
      "5\n",
      "6\n",
      "7\n",
      "8\n",
      "9\n"
     ]
    }
   ],
   "source": [
    "for sayi in range(10):\n",
    "    print(sayi)"
   ]
  },
  {
   "cell_type": "markdown",
   "id": "ccb45295",
   "metadata": {},
   "source": [
    "*****************************************************************"
   ]
  },
  {
   "cell_type": "markdown",
   "id": "22d0cb74",
   "metadata": {},
   "source": [
    "ENUMERATE"
   ]
  },
  {
   "cell_type": "code",
   "execution_count": 21,
   "id": "6c81a169",
   "metadata": {},
   "outputs": [
    {
     "name": "stdout",
     "output_type": "stream",
     "text": [
      "Allihsan Can\n",
      "Efe Şerafettin\n",
      "Selman Goksu\n",
      "Mustafa Yıldız\n",
      "Emine Kara\n"
     ]
    }
   ],
   "source": [
    "#enumerate aslında index kolaylığıdır.\n",
    "\n",
    "#örneğin for döngülerinde şu şekilde \n",
    "# 1. Adı Efe Soyadı Şerafettin  / burada hem index yani sayıyı hem de ismi ayarlıyordur enumerate bunu kolaylaştırıyor\n",
    "\n",
    "isimler = [\"Allihsan Can\",\"Efe Şerafettin\",\"Selman Goksu\",\"Mustafa Yıldız\",\"Emine Kara\"]\n",
    "\n",
    "for isim in isimler:\n",
    "    print(isim)\n"
   ]
  },
  {
   "cell_type": "code",
   "execution_count": 22,
   "id": "90320b54",
   "metadata": {},
   "outputs": [
    {
     "name": "stdout",
     "output_type": "stream",
     "text": [
      "(0, 'Allihsan Can')\n",
      "(1, 'Efe Şerafettin')\n",
      "(2, 'Selman Goksu')\n",
      "(3, 'Mustafa Yıldız')\n",
      "(4, 'Emine Kara')\n"
     ]
    }
   ],
   "source": [
    "for isim in enumerate(isimler):\n",
    "    print(isim)"
   ]
  },
  {
   "cell_type": "code",
   "execution_count": 23,
   "id": "2a25974f",
   "metadata": {},
   "outputs": [
    {
     "name": "stdout",
     "output_type": "stream",
     "text": [
      "0 Allihsan Can\n",
      "1 Efe Şerafettin\n",
      "2 Selman Goksu\n",
      "3 Mustafa Yıldız\n",
      "4 Emine Kara\n"
     ]
    }
   ],
   "source": [
    "# ya da \n",
    "\n",
    "for index , isim in enumerate(isimler):\n",
    "    print(index , isim)"
   ]
  },
  {
   "cell_type": "markdown",
   "id": "4faa6ae7",
   "metadata": {},
   "source": [
    "*********************************************************************"
   ]
  },
  {
   "cell_type": "markdown",
   "id": "bcd4be93",
   "metadata": {},
   "source": [
    "ZİP"
   ]
  },
  {
   "cell_type": "code",
   "execution_count": 27,
   "id": "c1d78023",
   "metadata": {},
   "outputs": [
    {
     "name": "stdout",
     "output_type": "stream",
     "text": [
      "(1, 'tr')\n",
      "(2, 'fr')\n",
      "(3, 'alm')\n"
     ]
    }
   ],
   "source": [
    "#zip aslında aynı uzunlukta olan iterable yani içinde dolaşılabilir türleri birleştirir\n",
    "ülkeler = [\"tr\",\"fr\",\"alm\"]\n",
    "sıralar  = [1,2,3]\n",
    "range(1,4)\n",
    "\n",
    "for ülke in zip(range(1,4),ülkeler):\n",
    "    print(ülke)\n",
    "    "
   ]
  },
  {
   "cell_type": "code",
   "execution_count": 28,
   "id": "dcf39bb6",
   "metadata": {},
   "outputs": [
    {
     "name": "stdout",
     "output_type": "stream",
     "text": [
      "(1, 'tr')\n",
      "(2, 'fr')\n",
      "(3, 'alm')\n"
     ]
    }
   ],
   "source": [
    "for ülke in zip(sıralar,ülkeler):\n",
    "     print(ülke)"
   ]
  },
  {
   "cell_type": "markdown",
   "id": "19787cf9",
   "metadata": {},
   "source": [
    "************************************************************************"
   ]
  },
  {
   "cell_type": "code",
   "execution_count": 30,
   "id": "26f98a88",
   "metadata": {},
   "outputs": [],
   "source": [
    "numbers = []\n",
    "for x in range(10):\n",
    "    numbers.append(x)"
   ]
  },
  {
   "cell_type": "code",
   "execution_count": 31,
   "id": "bb901643",
   "metadata": {},
   "outputs": [
    {
     "data": {
      "text/plain": [
       "[0, 1, 2, 3, 4, 5, 6, 7, 8, 9]"
      ]
     },
     "execution_count": 31,
     "metadata": {},
     "output_type": "execute_result"
    }
   ],
   "source": [
    "numbers"
   ]
  },
  {
   "cell_type": "code",
   "execution_count": null,
   "id": "dd429339",
   "metadata": {},
   "outputs": [],
   "source": []
  },
  {
   "cell_type": "code",
   "execution_count": 34,
   "id": "fcce8848",
   "metadata": {},
   "outputs": [
    {
     "data": {
      "text/plain": [
       "[0, 1, 4, 9, 16, 25, 36, 49, 64, 81]"
      ]
     },
     "execution_count": 34,
     "metadata": {},
     "output_type": "execute_result"
    }
   ],
   "source": [
    "numbers1 = [x**2 for x in range(10)] \n",
    "numbers1"
   ]
  },
  {
   "cell_type": "code",
   "execution_count": null,
   "id": "d518b539",
   "metadata": {},
   "outputs": [],
   "source": []
  },
  {
   "cell_type": "code",
   "execution_count": 36,
   "id": "74160ac1",
   "metadata": {},
   "outputs": [
    {
     "data": {
      "text/plain": [
       "[0, 1, 4, 9, 16, 25, 36, 49, 64, 81]"
      ]
     },
     "execution_count": 36,
     "metadata": {},
     "output_type": "execute_result"
    }
   ],
   "source": [
    "numbers2 = []\n",
    "for x in range(10):\n",
    "    numbers2.append(x**2)\n",
    "numbers2"
   ]
  },
  {
   "cell_type": "code",
   "execution_count": null,
   "id": "d822d374",
   "metadata": {},
   "outputs": [],
   "source": []
  },
  {
   "cell_type": "code",
   "execution_count": 37,
   "id": "3c83a92c",
   "metadata": {},
   "outputs": [
    {
     "name": "stdout",
     "output_type": "stream",
     "text": [
      "0 Alice 24\n",
      "1 Bob 50\n",
      "2 Charlie 18\n"
     ]
    }
   ],
   "source": [
    "names = ['Alice', 'Bob', 'Charlie']\n",
    "ages = [24, 50, 18]\n",
    "\n",
    "for i, (name, age) in enumerate(zip(names, ages)):\n",
    "    print(i, name, age)\n"
   ]
  },
  {
   "cell_type": "code",
   "execution_count": null,
   "id": "e18fcc99",
   "metadata": {},
   "outputs": [],
   "source": []
  },
  {
   "cell_type": "code",
   "execution_count": 41,
   "id": "665dc414",
   "metadata": {},
   "outputs": [
    {
     "name": "stdout",
     "output_type": "stream",
     "text": [
      "0 ('Alice', 24)\n",
      "1 ('Bob', 50)\n",
      "2 ('Charlie', 18)\n"
     ]
    }
   ],
   "source": [
    "for i, t in enumerate(zip(names, ages)):\n",
    "    print(i,t)"
   ]
  },
  {
   "cell_type": "code",
   "execution_count": null,
   "id": "7c811734",
   "metadata": {},
   "outputs": [],
   "source": []
  },
  {
   "cell_type": "code",
   "execution_count": 38,
   "id": "ec85ee13",
   "metadata": {},
   "outputs": [
    {
     "name": "stdout",
     "output_type": "stream",
     "text": [
      "0 Alice 24\n",
      "1 Bob 50\n",
      "2 Charlie 18\n"
     ]
    }
   ],
   "source": [
    "for i, t in enumerate(zip(names, ages)):\n",
    "    print(i, t[0], t[1])\n"
   ]
  },
  {
   "cell_type": "code",
   "execution_count": null,
   "id": "b054de96",
   "metadata": {},
   "outputs": [],
   "source": []
  },
  {
   "cell_type": "code",
   "execution_count": null,
   "id": "06d65b9c",
   "metadata": {},
   "outputs": [],
   "source": []
  }
 ],
 "metadata": {
  "kernelspec": {
   "display_name": "Python 3 (ipykernel)",
   "language": "python",
   "name": "python3"
  },
  "language_info": {
   "codemirror_mode": {
    "name": "ipython",
    "version": 3
   },
   "file_extension": ".py",
   "mimetype": "text/x-python",
   "name": "python",
   "nbconvert_exporter": "python",
   "pygments_lexer": "ipython3",
   "version": "3.9.13"
  }
 },
 "nbformat": 4,
 "nbformat_minor": 5
}
