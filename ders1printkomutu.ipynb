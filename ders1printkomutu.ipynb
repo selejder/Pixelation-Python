{
 "cells": [
  {
   "cell_type": "code",
   "execution_count": null,
   "id": "61c35cf8",
   "metadata": {},
   "outputs": [],
   "source": [
    "//print komutu = yazdır demek\n",
    "//format index atama "
   ]
  },
  {
   "cell_type": "code",
   "execution_count": 14,
   "id": "3b86ef37",
   "metadata": {},
   "outputs": [
    {
     "name": "stdout",
     "output_type": "stream",
     "text": [
      "Benim adim: selman Benim yaşım34\n"
     ]
    }
   ],
   "source": [
    "print(\"Benim adim: {0} Benim yaşım {1}\".format(\"selman\",34))"
   ]
  },
  {
   "cell_type": "code",
   "execution_count": 15,
   "id": "d6a8c521",
   "metadata": {},
   "outputs": [
    {
     "name": "stdout",
     "output_type": "stream",
     "text": [
      "Benim adim: selman Benim yaşım34\n"
     ]
    }
   ],
   "source": [
    "print(\"Benim adim: {ad} Benim yaşım {yas}\".format(ad=\"selman\",yas=34))"
   ]
  },
  {
   "cell_type": "code",
   "execution_count": null,
   "id": "de951972",
   "metadata": {},
   "outputs": [],
   "source": []
  }
 ],
 "metadata": {
  "kernelspec": {
   "display_name": "Python 3 (ipykernel)",
   "language": "python",
   "name": "python3"
  },
  "language_info": {
   "codemirror_mode": {
    "name": "ipython",
    "version": 3
   },
   "file_extension": ".py",
   "mimetype": "text/x-python",
   "name": "python",
   "nbconvert_exporter": "python",
   "pygments_lexer": "ipython3",
   "version": "3.9.13"
  }
 },
 "nbformat": 4,
 "nbformat_minor": 5
}
