{
 "cells": [
  {
   "cell_type": "code",
   "execution_count": 33,
   "id": "94b90396",
   "metadata": {},
   "outputs": [],
   "source": [
    "liste1= [\"selman\",17,\"ögrenci\",10]\n",
    "tuple1 = (\"ahmet\",12,\"futbolcu\",2)\n",
    "set1 = {\"aliihsan\",14,\"akıllı\",4}"
   ]
  },
  {
   "cell_type": "code",
   "execution_count": 9,
   "id": "bc3e7d93",
   "metadata": {},
   "outputs": [
    {
     "name": "stdout",
     "output_type": "stream",
     "text": [
      "True\n"
     ]
    }
   ],
   "source": [
    "print(liste1[1] == 17)"
   ]
  },
  {
   "cell_type": "code",
   "execution_count": 17,
   "id": "fa118c83",
   "metadata": {},
   "outputs": [
    {
     "name": "stdout",
     "output_type": "stream",
     "text": [
      "True\n"
     ]
    }
   ],
   "source": [
    "print(tuple1[0] == 'ahmet')"
   ]
  },
  {
   "cell_type": "code",
   "execution_count": 30,
   "id": "3f79aa33",
   "metadata": {},
   "outputs": [],
   "source": [
    "#print(set1[2] <= 4)"
   ]
  },
  {
   "cell_type": "markdown",
   "id": "1db48079",
   "metadata": {},
   "source": [
    "************************************************************"
   ]
  },
  {
   "cell_type": "code",
   "execution_count": 20,
   "id": "e33c3472",
   "metadata": {},
   "outputs": [
    {
     "data": {
      "text/plain": [
       "['selman', 17, 'ögrenci', 10, 'yeni yazi']"
      ]
     },
     "execution_count": 20,
     "metadata": {},
     "output_type": "execute_result"
    }
   ],
   "source": [
    "liste1 = liste1 + [\"yeni yazi\"] #version1\n",
    "print(liste1)"
   ]
  },
  {
   "cell_type": "code",
   "execution_count": 21,
   "id": "12544c18",
   "metadata": {},
   "outputs": [
    {
     "data": {
      "text/plain": [
       "['selman', 17, 'ögrenci', 10, 'yeni yazi', 'yeni yazi2']"
      ]
     },
     "execution_count": 21,
     "metadata": {},
     "output_type": "execute_result"
    }
   ],
   "source": [
    "liste1.append(\"yeni yazi 2\") #version2\n",
    "liste1"
   ]
  },
  {
   "cell_type": "code",
   "execution_count": 23,
   "id": "62cfaa0b",
   "metadata": {},
   "outputs": [],
   "source": [
    "#tuple1 = tuple1 + (\"yeni yazi\")\n",
    "#tuple1"
   ]
  },
  {
   "cell_type": "code",
   "execution_count": 34,
   "id": "e3e0330f",
   "metadata": {},
   "outputs": [
    {
     "data": {
      "text/plain": [
       "{4, 14}"
      ]
     },
     "execution_count": 34,
     "metadata": {},
     "output_type": "execute_result"
    }
   ],
   "source": [
    "#set1 = set1 + {\"aliihsan\"}\n",
    "set1"
   ]
  },
  {
   "cell_type": "markdown",
   "id": "4d3a9941",
   "metadata": {},
   "source": [
    "******************************************************************************************"
   ]
  },
  {
   "cell_type": "code",
   "execution_count": 52,
   "id": "ce8862a0",
   "metadata": {},
   "outputs": [
    {
     "data": {
      "text/plain": [
       "2"
      ]
     },
     "execution_count": 52,
     "metadata": {},
     "output_type": "execute_result"
    }
   ],
   "source": [
    "liste2 = [2,45,3,54,345,2,54]\n",
    "liste2.count(54)"
   ]
  },
  {
   "cell_type": "code",
   "execution_count": 53,
   "id": "e246f68a",
   "metadata": {},
   "outputs": [
    {
     "data": {
      "text/plain": [
       "[2, 45, 3, 54, 345, 2, 54]"
      ]
     },
     "execution_count": 53,
     "metadata": {},
     "output_type": "execute_result"
    }
   ],
   "source": [
    "liste2"
   ]
  },
  {
   "cell_type": "code",
   "execution_count": 55,
   "id": "753335fb",
   "metadata": {},
   "outputs": [],
   "source": [
    "rakam1=liste2.pop(3) "
   ]
  },
  {
   "cell_type": "code",
   "execution_count": 56,
   "id": "7f059a25",
   "metadata": {},
   "outputs": [
    {
     "data": {
      "text/plain": [
       "54"
      ]
     },
     "execution_count": 56,
     "metadata": {},
     "output_type": "execute_result"
    }
   ],
   "source": [
    "rakam1"
   ]
  },
  {
   "cell_type": "code",
   "execution_count": 84,
   "id": "cc13d8c0",
   "metadata": {},
   "outputs": [
    {
     "data": {
      "text/plain": [
       "[2, 2, 3, 45, 54, 345]"
      ]
     },
     "execution_count": 84,
     "metadata": {},
     "output_type": "execute_result"
    }
   ],
   "source": [
    "liste2.sort()\n",
    "liste2"
   ]
  },
  {
   "cell_type": "code",
   "execution_count": 71,
   "id": "01e830cc",
   "metadata": {},
   "outputs": [],
   "source": [
    "selejder = [232,34,89897,234324,9080,342,67]"
   ]
  },
  {
   "cell_type": "code",
   "execution_count": 85,
   "id": "752b5af5",
   "metadata": {},
   "outputs": [
    {
     "data": {
      "text/plain": [
       "[234324, 89897, 9080, 342, 232, 67, 34]"
      ]
     },
     "execution_count": 85,
     "metadata": {},
     "output_type": "execute_result"
    }
   ],
   "source": [
    "selejder.reverse()\n",
    "selejder"
   ]
  },
  {
   "cell_type": "code",
   "execution_count": null,
   "id": "20b569f8",
   "metadata": {},
   "outputs": [],
   "source": []
  },
  {
   "cell_type": "code",
   "execution_count": null,
   "id": "b22ccf64",
   "metadata": {},
   "outputs": [],
   "source": []
  }
 ],
 "metadata": {
  "kernelspec": {
   "display_name": "Python 3 (ipykernel)",
   "language": "python",
   "name": "python3"
  },
  "language_info": {
   "codemirror_mode": {
    "name": "ipython",
    "version": 3
   },
   "file_extension": ".py",
   "mimetype": "text/x-python",
   "name": "python",
   "nbconvert_exporter": "python",
   "pygments_lexer": "ipython3",
   "version": "3.9.13"
  }
 },
 "nbformat": 4,
 "nbformat_minor": 5
}
