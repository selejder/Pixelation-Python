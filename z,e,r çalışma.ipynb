{
 "cells": [
  {
   "cell_type": "code",
   "execution_count": 6,
   "id": "6d88c90c",
   "metadata": {},
   "outputs": [
    {
     "name": "stdout",
     "output_type": "stream",
     "text": [
      "1. numaralı Şerafettin Efe adlı kişi benim Kuzen\n",
      "2. numaralı Aliihsan Can adlı kişi benim Teyzeoğlu\n",
      "3. numaralı Selman Göksu adlı kişi benim Ben\n",
      "4. numaralı Emine Kara adlı kişi benim Annem\n",
      "5. numaralı Mustafa Oğuz adlı kişi benim Babam\n"
     ]
    }
   ],
   "source": [
    "isimler = [\"Şerafettin Efe\",\"Aliihsan Can\",\"Selman Göksu\",\"Emine Kara\",\"Mustafa Oğuz\"]\n",
    "konum = [\"Kuzen\",\"Teyzeoğlu\",\"Ben\",\"Annem\",\"Babam\"]\n",
    "\n",
    "for x,(y,z) in enumerate(zip(isimler,konum)):\n",
    "    print(\"{}. numaralı {} adlı kişi benim {}\".format(x+1,y,z))\n"
   ]
  },
  {
   "cell_type": "code",
   "execution_count": null,
   "id": "561963be",
   "metadata": {},
   "outputs": [],
   "source": []
  },
  {
   "cell_type": "code",
   "execution_count": null,
   "id": "a425f993",
   "metadata": {},
   "outputs": [],
   "source": []
  }
 ],
 "metadata": {
  "kernelspec": {
   "display_name": "Python 3 (ipykernel)",
   "language": "python",
   "name": "python3"
  },
  "language_info": {
   "codemirror_mode": {
    "name": "ipython",
    "version": 3
   },
   "file_extension": ".py",
   "mimetype": "text/x-python",
   "name": "python",
   "nbconvert_exporter": "python",
   "pygments_lexer": "ipython3",
   "version": "3.9.13"
  }
 },
 "nbformat": 4,
 "nbformat_minor": 5
}
