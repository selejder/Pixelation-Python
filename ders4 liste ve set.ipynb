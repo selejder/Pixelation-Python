{
 "cells": [
  {
   "cell_type": "code",
   "execution_count": 20,
   "id": "e2ee7728",
   "metadata": {
    "scrolled": true
   },
   "outputs": [
    {
     "name": "stdout",
     "output_type": "stream",
     "text": [
      "['ahmet', 13, 'çırak']\n"
     ]
    }
   ],
   "source": [
    "konum = \"ögrenci\"\n",
    "konum1 = \"çırak\"\n",
    "kisilik = [\"selman\",16,konum]\n",
    "kisilik2 = [\"ahmet\",13,konum1]\n",
    "##print(kisilik[2])\n",
    "print(kisilik2)\n"
   ]
  },
  {
   "cell_type": "code",
   "execution_count": 6,
   "id": "d2029f76",
   "metadata": {},
   "outputs": [
    {
     "data": {
      "text/plain": [
       "list"
      ]
     },
     "execution_count": 6,
     "metadata": {},
     "output_type": "execute_result"
    }
   ],
   "source": [
    "type(kisilik)"
   ]
  },
  {
   "cell_type": "code",
   "execution_count": null,
   "id": "4908e32d",
   "metadata": {},
   "outputs": [],
   "source": [
    "##her deüişken kendi türü ile ilgili etkileşime girebilir\n",
    "##bir yazı veya sayıyı type list yapavilmek için [] almak gerekir"
   ]
  },
  {
   "cell_type": "code",
   "execution_count": 22,
   "id": "bfe4855b",
   "metadata": {},
   "outputs": [
    {
     "data": {
      "text/plain": [
       "['selman', 16, 'ögrenci', 'genc']"
      ]
     },
     "execution_count": 22,
     "metadata": {},
     "output_type": "execute_result"
    }
   ],
   "source": [
    "##append ekleme \n",
    "kisilik.append(\"genc\") ## kislik = kisilik.append(\"genc\") yapmamamızın sebebi bazı komutların geri dönüş gerektirmemesi\n",
    "kisilik"
   ]
  },
  {
   "cell_type": "code",
   "execution_count": 23,
   "id": "e1102470",
   "metadata": {},
   "outputs": [
    {
     "data": {
      "text/plain": [
       "['selman', 16, 'ögrenci', 'genc']"
      ]
     },
     "execution_count": 23,
     "metadata": {},
     "output_type": "execute_result"
    }
   ],
   "source": [
    "kisilik"
   ]
  },
  {
   "cell_type": "code",
   "execution_count": 24,
   "id": "638c01eb",
   "metadata": {},
   "outputs": [
    {
     "data": {
      "text/plain": [
       "'genc'"
      ]
     },
     "execution_count": 24,
     "metadata": {},
     "output_type": "execute_result"
    }
   ],
   "source": [
    "## sondaki elemanı atmak\n",
    "kisilik.pop()"
   ]
  },
  {
   "cell_type": "code",
   "execution_count": 25,
   "id": "9f28c0b8",
   "metadata": {},
   "outputs": [
    {
     "data": {
      "text/plain": [
       "['selman', 16, 'ögrenci']"
      ]
     },
     "execution_count": 25,
     "metadata": {},
     "output_type": "execute_result"
    }
   ],
   "source": [
    "kisilik"
   ]
  },
  {
   "cell_type": "code",
   "execution_count": 35,
   "id": "1ec40be9",
   "metadata": {},
   "outputs": [],
   "source": [
    "#ayrıca atılan elemanı başka bir değişkenin içine koyabiliriz.\n",
    "kisilik.append(23)"
   ]
  },
  {
   "cell_type": "code",
   "execution_count": 27,
   "id": "24e28e0e",
   "metadata": {},
   "outputs": [
    {
     "data": {
      "text/plain": [
       "['selman', 16, 'ögrenci', 23]"
      ]
     },
     "execution_count": 27,
     "metadata": {},
     "output_type": "execute_result"
    }
   ],
   "source": [
    "kisilik"
   ]
  },
  {
   "cell_type": "code",
   "execution_count": 29,
   "id": "2351e27a",
   "metadata": {},
   "outputs": [
    {
     "data": {
      "text/plain": [
       "23"
      ]
     },
     "execution_count": 29,
     "metadata": {},
     "output_type": "execute_result"
    }
   ],
   "source": [
    "herhangibirsayi = kisilik.pop()\n",
    "herhangibirsayi"
   ]
  },
  {
   "cell_type": "code",
   "execution_count": 30,
   "id": "4ded4534",
   "metadata": {},
   "outputs": [],
   "source": [
    "#index ile pop kullanımı\n",
    "kisilik.append(\"selam\")\n",
    "herhangibirsey = kisilik.pop(3)"
   ]
  },
  {
   "cell_type": "code",
   "execution_count": 31,
   "id": "4703bcad",
   "metadata": {},
   "outputs": [
    {
     "data": {
      "text/plain": [
       "'selam'"
      ]
     },
     "execution_count": 31,
     "metadata": {},
     "output_type": "execute_result"
    }
   ],
   "source": [
    "herhangibirsey"
   ]
  },
  {
   "cell_type": "code",
   "execution_count": 33,
   "id": "15c5027a",
   "metadata": {},
   "outputs": [],
   "source": [
    "#listelerde büyüklüğe göre sıralama sort\n",
    "selejder = [232,34,89897,234324,9080,342,67]"
   ]
  },
  {
   "cell_type": "code",
   "execution_count": 34,
   "id": "abd4bf10",
   "metadata": {},
   "outputs": [
    {
     "data": {
      "text/plain": [
       "list"
      ]
     },
     "execution_count": 34,
     "metadata": {},
     "output_type": "execute_result"
    }
   ],
   "source": [
    "type(selejder)\n"
   ]
  },
  {
   "cell_type": "code",
   "execution_count": 38,
   "id": "c1ba4e6e",
   "metadata": {},
   "outputs": [],
   "source": [
    "selejder.sort()"
   ]
  },
  {
   "cell_type": "code",
   "execution_count": 39,
   "id": "6ff9dda5",
   "metadata": {},
   "outputs": [
    {
     "data": {
      "text/plain": [
       "[34, 67, 232, 342, 9080, 89897, 234324]"
      ]
     },
     "execution_count": 39,
     "metadata": {},
     "output_type": "execute_result"
    }
   ],
   "source": [
    "selejder"
   ]
  },
  {
   "cell_type": "code",
   "execution_count": 70,
   "id": "c1aa62a7",
   "metadata": {},
   "outputs": [
    {
     "data": {
      "text/plain": [
       "[234324, 89897, 9080, 342, 232, 67, 34]"
      ]
     },
     "execution_count": 70,
     "metadata": {},
     "output_type": "execute_result"
    }
   ],
   "source": [
    "selejder.reverse()\n",
    "selejder"
   ]
  },
  {
   "cell_type": "code",
   "execution_count": 42,
   "id": "4cede8b4",
   "metadata": {},
   "outputs": [
    {
     "data": {
      "text/plain": [
       "{1, 2, 23}"
      ]
     },
     "execution_count": 42,
     "metadata": {},
     "output_type": "execute_result"
    }
   ],
   "source": [
    "selejder2 = [1,1,2,2,23,23]\n",
    "set(selejder2) #aynı tür elemanları teke indirgiyor hem de tipi değişiyor çıktıda süslü parantez farkederseniz"
   ]
  },
  {
   "cell_type": "code",
   "execution_count": 46,
   "id": "4a44e963",
   "metadata": {},
   "outputs": [
    {
     "data": {
      "text/plain": [
       "list"
      ]
     },
     "execution_count": 46,
     "metadata": {},
     "output_type": "execute_result"
    }
   ],
   "source": [
    "type(selejder)\n"
   ]
  },
  {
   "cell_type": "code",
   "execution_count": 47,
   "id": "cf8866e6",
   "metadata": {},
   "outputs": [
    {
     "data": {
      "text/plain": [
       "{34, 'selam'}"
      ]
     },
     "execution_count": 47,
     "metadata": {},
     "output_type": "execute_result"
    }
   ],
   "source": [
    "selejder3 = {34,\"selam\"} ##setler süslü parantezle ifade edilir.\n",
    "selejder3"
   ]
  },
  {
   "cell_type": "code",
   "execution_count": 55,
   "id": "df80c2ca",
   "metadata": {},
   "outputs": [],
   "source": [
    "selejder3.add(\"merhaba\")"
   ]
  },
  {
   "cell_type": "code",
   "execution_count": 56,
   "id": "dbd5d678",
   "metadata": {},
   "outputs": [
    {
     "data": {
      "text/plain": [
       "{34, 'merhaba', 'selam'}"
      ]
     },
     "execution_count": 56,
     "metadata": {},
     "output_type": "execute_result"
    }
   ],
   "source": [
    "selejder3"
   ]
  },
  {
   "cell_type": "code",
   "execution_count": 58,
   "id": "371f836a",
   "metadata": {},
   "outputs": [],
   "source": [
    "selejder3.add(3)\n",
    "selejder3.add(\"merhaba\")"
   ]
  },
  {
   "cell_type": "code",
   "execution_count": 59,
   "id": "17694ef9",
   "metadata": {},
   "outputs": [
    {
     "data": {
      "text/plain": [
       "{3, 34, 'merhaba', 'selam'}"
      ]
     },
     "execution_count": 59,
     "metadata": {},
     "output_type": "execute_result"
    }
   ],
   "source": [
    "selejder3"
   ]
  },
  {
   "cell_type": "code",
   "execution_count": 61,
   "id": "030c626b",
   "metadata": {},
   "outputs": [
    {
     "data": {
      "text/plain": [
       "1"
      ]
     },
     "execution_count": 61,
     "metadata": {},
     "output_type": "execute_result"
    }
   ],
   "source": [
    "kisilik.index(16)##elemanın kaçıncı indexde olduğunu söyler"
   ]
  },
  {
   "cell_type": "markdown",
   "id": "346663f1",
   "metadata": {},
   "source": [
    "liste ve listenin fonksiyonlarını gördük pop,reverse,sort\n",
    "ayrıca listedeki elemanları teke indirmeyi ve şeklini set aracılığı ile değiştirebilceğimizi öğrendik\n",
    "set=süslü parantez + teke indirgenen elemanlar     list=kare parantez + teke indirgenmeyen elemanlar"
   ]
  }
 ],
 "metadata": {
  "kernelspec": {
   "display_name": "Python 3 (ipykernel)",
   "language": "python",
   "name": "python3"
  },
  "language_info": {
   "codemirror_mode": {
    "name": "ipython",
    "version": 3
   },
   "file_extension": ".py",
   "mimetype": "text/x-python",
   "name": "python",
   "nbconvert_exporter": "python",
   "pygments_lexer": "ipython3",
   "version": "3.9.13"
  }
 },
 "nbformat": 4,
 "nbformat_minor": 5
}
