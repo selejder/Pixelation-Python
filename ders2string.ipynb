{
 "cells": [
  {
   "cell_type": "code",
   "execution_count": 17,
   "id": "071e4694",
   "metadata": {},
   "outputs": [
    {
     "data": {
      "text/plain": [
       "'l'"
      ]
     },
     "execution_count": 17,
     "metadata": {},
     "output_type": "execute_result"
    }
   ],
   "source": [
    "##string değerlerde index\n",
    "strs = \"Selam/tBen/tAdal \"\n",
    "strs[2]"
   ]
  },
  {
   "cell_type": "code",
   "execution_count": 14,
   "id": "3c121077",
   "metadata": {},
   "outputs": [
    {
     "data": {
      "text/plain": [
       "'a'"
      ]
     },
     "execution_count": 14,
     "metadata": {},
     "output_type": "execute_result"
    }
   ],
   "source": [
    "strs[-3]"
   ]
  },
  {
   "cell_type": "code",
   "execution_count": 3,
   "id": "a39364f1",
   "metadata": {},
   "outputs": [
    {
     "data": {
      "text/plain": [
       "'la'"
      ]
     },
     "execution_count": 3,
     "metadata": {},
     "output_type": "execute_result"
    }
   ],
   "source": [
    "strs[2:4]"
   ]
  },
  {
   "cell_type": "code",
   "execution_count": 4,
   "id": "e5f6e330",
   "metadata": {},
   "outputs": [
    {
     "data": {
      "text/plain": [
       "'elambenadal'"
      ]
     },
     "execution_count": 4,
     "metadata": {},
     "output_type": "execute_result"
    }
   ],
   "source": [
    "strs[1:]"
   ]
  },
  {
   "cell_type": "code",
   "execution_count": 5,
   "id": "b2513097",
   "metadata": {},
   "outputs": [
    {
     "data": {
      "text/plain": [
       "12"
      ]
     },
     "execution_count": 5,
     "metadata": {},
     "output_type": "execute_result"
    }
   ],
   "source": [
    "##len komutu uzunluğu gösterir\n",
    "len(strs)"
   ]
  },
  {
   "cell_type": "code",
   "execution_count": 6,
   "id": "2d94c06b",
   "metadata": {},
   "outputs": [
    {
     "data": {
      "text/plain": [
       "'selambenadalhayır'"
      ]
     },
     "execution_count": 6,
     "metadata": {},
     "output_type": "execute_result"
    }
   ],
   "source": [
    "##bağlama\n",
    "strs + \"hayır\""
   ]
  },
  {
   "cell_type": "code",
   "execution_count": 7,
   "id": "5fc93f9a",
   "metadata": {},
   "outputs": [
    {
     "data": {
      "text/plain": [
       "'selambenadalselambenadalselambenadalselambenadalselambenadal'"
      ]
     },
     "execution_count": 7,
     "metadata": {},
     "output_type": "execute_result"
    }
   ],
   "source": [
    "strs * 5 "
   ]
  },
  {
   "cell_type": "code",
   "execution_count": 29,
   "id": "737705bc",
   "metadata": {
    "scrolled": false
   },
   "outputs": [
    {
     "name": "stdout",
     "output_type": "stream",
     "text": [
      "['Hey', 'Ben', 'Adal']\n",
      "HEY BEN ADAL\n",
      "hey ben adal\n",
      "['Hey Ben Ad', 'l']\n"
     ]
    }
   ],
   "source": [
    "##küçük harf yapma lower\n",
    "##büyük harf yapma uppwe\n",
    "##arasında boşluk olduğunda ayırma işlemi split\n",
    "strs1 = \"Hey Ben Adal\"\n",
    "print(strs1.split())\n",
    "print(strs1.upper())\n",
    "print(strs1.lower())\n",
    "print(strs1.split(\"a\"))\n"
   ]
  },
  {
   "cell_type": "code",
   "execution_count": null,
   "id": "158ddc28",
   "metadata": {},
   "outputs": [],
   "source": []
  }
 ],
 "metadata": {
  "kernelspec": {
   "display_name": "Python 3 (ipykernel)",
   "language": "python",
   "name": "python3"
  },
  "language_info": {
   "codemirror_mode": {
    "name": "ipython",
    "version": 3
   },
   "file_extension": ".py",
   "mimetype": "text/x-python",
   "name": "python",
   "nbconvert_exporter": "python",
   "pygments_lexer": "ipython3",
   "version": "3.9.13"
  }
 },
 "nbformat": 4,
 "nbformat_minor": 5
}
