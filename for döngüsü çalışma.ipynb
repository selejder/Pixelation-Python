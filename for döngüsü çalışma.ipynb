{
 "cells": [
  {
   "cell_type": "code",
   "execution_count": 2,
   "id": "734565e9",
   "metadata": {},
   "outputs": [
    {
     "data": {
      "text/plain": [
       "2"
      ]
     },
     "execution_count": 2,
     "metadata": {},
     "output_type": "execute_result"
    }
   ],
   "source": [
    "x = int(5)\n",
    "x%3"
   ]
  },
  {
   "cell_type": "code",
   "execution_count": 20,
   "id": "fa934f50",
   "metadata": {},
   "outputs": [
    {
     "name": "stdout",
     "output_type": "stream",
     "text": [
      "3\n",
      "9\n",
      "12\n",
      "21\n"
     ]
    }
   ],
   "source": [
    "sayılar = [1,3,5,7,9,12,19,21]\n",
    "\n",
    "for x  in sayılar:\n",
    "    if(x%3) == 0:\n",
    "         print(x)"
   ]
  },
  {
   "cell_type": "code",
   "execution_count": 31,
   "id": "8f571463",
   "metadata": {},
   "outputs": [
    {
     "name": "stdout",
     "output_type": "stream",
     "text": [
      "77\n"
     ]
    }
   ],
   "source": [
    "x = 0\n",
    "for y in sayılar:\n",
    "    x = y + x\n",
    "    \n",
    "print(x)   "
   ]
  },
  {
   "cell_type": "code",
   "execution_count": 18,
   "id": "de21e08f",
   "metadata": {},
   "outputs": [
    {
     "name": "stdout",
     "output_type": "stream",
     "text": [
      "1\n",
      "9\n",
      "25\n",
      "49\n",
      "81\n",
      "361\n",
      "441\n"
     ]
    }
   ],
   "source": [
    "for y in sayılar:\n",
    "    if(y%2) == 1:\n",
    "        y = y*y\n",
    "        print(y)"
   ]
  },
  {
   "cell_type": "code",
   "execution_count": 28,
   "id": "305d49f2",
   "metadata": {},
   "outputs": [
    {
     "name": "stdout",
     "output_type": "stream",
     "text": [
      "rize\n",
      "izmir\n"
     ]
    }
   ],
   "source": [
    "strvar = [\"kocaeli\",\"istanbul\",\"rize\",\"ankara\",\"izmir\"]\n",
    "\n",
    "for x in strvar:\n",
    "    if len(x) <= 5:\n",
    "        print(x)"
   ]
  },
  {
   "cell_type": "code",
   "execution_count": 58,
   "id": "4f927f58",
   "metadata": {},
   "outputs": [],
   "source": [
    "urunler = [\n",
    "    \n",
    "  {\"name\":\"samsung6\" , \"price\":3000},\n",
    "  {\"name\":\"samsungs7\", \"price\":4000},\n",
    "  {\"name\":\"samsungs8\", \"price\":5000},\n",
    "  {\"name\":\"samsungs9\", \"price\":6000}\n",
    "\n",
    "   ]"
   ]
  },
  {
   "cell_type": "code",
   "execution_count": 59,
   "id": "833ce67a",
   "metadata": {},
   "outputs": [
    {
     "name": "stdout",
     "output_type": "stream",
     "text": [
      "18000\n"
     ]
    }
   ],
   "source": [
    "z=0\n",
    "for satir in urunler: \n",
    "          x = int(satir.get(\"price\")) \n",
    "          z = z + x\n",
    "\n",
    "print(z)"
   ]
  },
  {
   "cell_type": "code",
   "execution_count": 70,
   "id": "b4ee543f",
   "metadata": {},
   "outputs": [
    {
     "name": "stdout",
     "output_type": "stream",
     "text": [
      "3000\n",
      "4000\n",
      "5000\n"
     ]
    }
   ],
   "source": [
    "for satir in urunler:\n",
    "    x = int(satir.get(\"price\")) \n",
    "    \n",
    "    if int(satir.get(\"price\")) <= 5000:\n",
    "        print(int(satir.get(\"price\")))"
   ]
  },
  {
   "cell_type": "code",
   "execution_count": null,
   "id": "f53a607b",
   "metadata": {},
   "outputs": [],
   "source": [
    "#int(x)  x = string bir değer ise onu sayı yapar nott!!!!!!!!"
   ]
  }
 ],
 "metadata": {
  "kernelspec": {
   "display_name": "Python 3 (ipykernel)",
   "language": "python",
   "name": "python3"
  },
  "language_info": {
   "codemirror_mode": {
    "name": "ipython",
    "version": 3
   },
   "file_extension": ".py",
   "mimetype": "text/x-python",
   "name": "python",
   "nbconvert_exporter": "python",
   "pygments_lexer": "ipython3",
   "version": "3.9.13"
  }
 },
 "nbformat": 4,
 "nbformat_minor": 5
}
