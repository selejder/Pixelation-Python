{
 "cells": [
  {
   "cell_type": "code",
   "execution_count": 19,
   "id": "2b32509f",
   "metadata": {},
   "outputs": [],
   "source": [
    "kit1 = {\n",
    "    \n",
    "'ad':'aliihsan',   \n",
    "'yas': 13,\n",
    "'egitim': {\n",
    "    'okulu':'vnço',\n",
    "    'sınıf':7 ,\n",
    "  },\n",
    "}\n",
    "kit2 = {\n",
    "    \n",
    "\"ad\":\"efe\",    \n",
    "\"yas\" : 11,\n",
    "\"egitim\": {\n",
    "    \"okulu\":\"mşgl\",\n",
    "    \"sınıf\":2,\n",
    "  },\n",
    "}\n",
    "     \n",
    "\n",
    "    "
   ]
  },
  {
   "cell_type": "code",
   "execution_count": 15,
   "id": "c051cfbb",
   "metadata": {},
   "outputs": [
    {
     "data": {
      "text/plain": [
       "dict"
      ]
     },
     "execution_count": 15,
     "metadata": {},
     "output_type": "execute_result"
    }
   ],
   "source": [
    "type(kit1)"
   ]
  },
  {
   "cell_type": "code",
   "execution_count": 20,
   "id": "06cd221f",
   "metadata": {},
   "outputs": [
    {
     "data": {
      "text/plain": [
       "dict"
      ]
     },
     "execution_count": 20,
     "metadata": {},
     "output_type": "execute_result"
    }
   ],
   "source": [
    "type(kit2)"
   ]
  },
  {
   "cell_type": "code",
   "execution_count": 22,
   "id": "30b23d91",
   "metadata": {},
   "outputs": [
    {
     "data": {
      "text/plain": [
       "13"
      ]
     },
     "execution_count": 22,
     "metadata": {},
     "output_type": "execute_result"
    }
   ],
   "source": [
    "kit1[\"yas\"]"
   ]
  },
  {
   "cell_type": "code",
   "execution_count": 24,
   "id": "ae00a1db",
   "metadata": {},
   "outputs": [
    {
     "data": {
      "text/plain": [
       "7"
      ]
     },
     "execution_count": 24,
     "metadata": {},
     "output_type": "execute_result"
    }
   ],
   "source": [
    "kit1[\"egitim\"][\"sınıf\"]"
   ]
  },
  {
   "cell_type": "code",
   "execution_count": 26,
   "id": "ac147ae4",
   "metadata": {},
   "outputs": [
    {
     "data": {
      "text/plain": [
       "'efe'"
      ]
     },
     "execution_count": 26,
     "metadata": {},
     "output_type": "execute_result"
    }
   ],
   "source": [
    "kit2.get(\"ad\")"
   ]
  },
  {
   "cell_type": "code",
   "execution_count": 27,
   "id": "7fce8e3f",
   "metadata": {},
   "outputs": [
    {
     "data": {
      "text/plain": [
       "dict_items([('ad', 'aliihsan'), ('yas', 13), ('egitim', {'okulu': 'vnço', 'sınıf': 7})])"
      ]
     },
     "execution_count": 27,
     "metadata": {},
     "output_type": "execute_result"
    }
   ],
   "source": [
    "kit1.items()"
   ]
  },
  {
   "cell_type": "code",
   "execution_count": 28,
   "id": "ac2151f3",
   "metadata": {},
   "outputs": [
    {
     "data": {
      "text/plain": [
       "dict_keys(['ad', 'yas', 'egitim'])"
      ]
     },
     "execution_count": 28,
     "metadata": {},
     "output_type": "execute_result"
    }
   ],
   "source": [
    "kit2.keys()"
   ]
  },
  {
   "cell_type": "code",
   "execution_count": 29,
   "id": "0802f52c",
   "metadata": {},
   "outputs": [
    {
     "data": {
      "text/plain": [
       "dict_values(['efe', 11, {'okulu': 'mşgl', 'sınıf': 2}])"
      ]
     },
     "execution_count": 29,
     "metadata": {},
     "output_type": "execute_result"
    }
   ],
   "source": [
    "kit2.values()"
   ]
  },
  {
   "cell_type": "code",
   "execution_count": null,
   "id": "b023c0fd",
   "metadata": {},
   "outputs": [],
   "source": []
  }
 ],
 "metadata": {
  "kernelspec": {
   "display_name": "Python 3 (ipykernel)",
   "language": "python",
   "name": "python3"
  },
  "language_info": {
   "codemirror_mode": {
    "name": "ipython",
    "version": 3
   },
   "file_extension": ".py",
   "mimetype": "text/x-python",
   "name": "python",
   "nbconvert_exporter": "python",
   "pygments_lexer": "ipython3",
   "version": "3.9.13"
  }
 },
 "nbformat": 4,
 "nbformat_minor": 5
}
