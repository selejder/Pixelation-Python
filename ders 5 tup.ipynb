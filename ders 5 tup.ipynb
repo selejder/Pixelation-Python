{
 "cells": [
  {
   "cell_type": "markdown",
   "id": "b0346625",
   "metadata": {},
   "source": [
    "tuple ın en büyük özelliği değiştirilemiyor olmasıdır yani ekleme çıkartma yapılamaz"
   ]
  },
  {
   "cell_type": "code",
   "execution_count": 4,
   "id": "dce226a0",
   "metadata": {},
   "outputs": [
    {
     "data": {
      "text/plain": [
       "tuple"
      ]
     },
     "execution_count": 4,
     "metadata": {},
     "output_type": "execute_result"
    }
   ],
   "source": [
    "turp = (\"adal\",34,\"a\",34)\n",
    "type(turp)"
   ]
  },
  {
   "cell_type": "code",
   "execution_count": 5,
   "id": "2c2d7912",
   "metadata": {
    "scrolled": true
   },
   "outputs": [],
   "source": [
    "##turp = turp + (\"a\")  bu kod çalışmaz çünkü tuple ekleme ya da çıkarma özelliği yok"
   ]
  },
  {
   "cell_type": "code",
   "execution_count": 11,
   "id": "55fce9af",
   "metadata": {},
   "outputs": [
    {
     "name": "stdout",
     "output_type": "stream",
     "text": [
      "1\n"
     ]
    },
    {
     "data": {
      "text/plain": [
       "0"
      ]
     },
     "execution_count": 11,
     "metadata": {},
     "output_type": "execute_result"
    }
   ],
   "source": [
    "##elemanın kaç kere geçtiğini anlama\n",
    "print(turp.count(34))\n",
    "turp.count(453)"
   ]
  },
  {
   "cell_type": "code",
   "execution_count": 9,
   "id": "83a5606b",
   "metadata": {},
   "outputs": [
    {
     "data": {
      "text/plain": [
       "2"
      ]
     },
     "execution_count": 9,
     "metadata": {},
     "output_type": "execute_result"
    }
   ],
   "source": [
    "turp.index(\"a\")"
   ]
  }
 ],
 "metadata": {
  "kernelspec": {
   "display_name": "Python 3 (ipykernel)",
   "language": "python",
   "name": "python3"
  },
  "language_info": {
   "codemirror_mode": {
    "name": "ipython",
    "version": 3
   },
   "file_extension": ".py",
   "mimetype": "text/x-python",
   "name": "python",
   "nbconvert_exporter": "python",
   "pygments_lexer": "ipython3",
   "version": "3.9.13"
  }
 },
 "nbformat": 4,
 "nbformat_minor": 5
}
