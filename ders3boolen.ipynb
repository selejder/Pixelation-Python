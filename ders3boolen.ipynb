{
 "cells": [
  {
   "cell_type": "code",
   "execution_count": 2,
   "id": "03c0d1cb",
   "metadata": {},
   "outputs": [
    {
     "name": "stdout",
     "output_type": "stream",
     "text": [
      "<class 'bool'>\n"
     ]
    }
   ],
   "source": [
    "bool3 = True\n",
    "bool4 = False\n",
    "print(type(bool3))"
   ]
  },
  {
   "cell_type": "code",
   "execution_count": 8,
   "id": "3020e9a4",
   "metadata": {},
   "outputs": [
    {
     "name": "stdout",
     "output_type": "stream",
     "text": [
      "True\n",
      "False\n",
      "True\n",
      "False\n"
     ]
    }
   ],
   "source": [
    "yas = 34\n",
    "yas1 = 44\n",
    "print(yas > 30)\n",
    "print(yas > 36)\n",
    "print(yas1 > 40)\n",
    "print(yas1 > 46)\n"
   ]
  },
  {
   "cell_type": "code",
   "execution_count": 10,
   "id": "20738f39",
   "metadata": {},
   "outputs": [
    {
     "name": "stdout",
     "output_type": "stream",
     "text": [
      "True\n",
      "False\n"
     ]
    }
   ],
   "source": [
    "## not: boolen aritmetik operatörleri < > == >= => gibidir yanlışlıkla atama yapmayınız\n",
    "print(yas1 >= 34)\n",
    "print(yas1 >= 50)"
   ]
  },
  {
   "cell_type": "code",
   "execution_count": 12,
   "id": "cd993da4",
   "metadata": {},
   "outputs": [
    {
     "name": "stdout",
     "output_type": "stream",
     "text": [
      "False\n",
      "True\n",
      "True\n"
     ]
    }
   ],
   "source": [
    "##olayın tersi != veya not\n",
    "print(yas1 == 34)\n",
    "print(yas1 != 34)\n",
    "print(not yas1 == 34)"
   ]
  },
  {
   "cell_type": "code",
   "execution_count": null,
   "id": "2dbbb08d",
   "metadata": {},
   "outputs": [],
   "source": []
  }
 ],
 "metadata": {
  "kernelspec": {
   "display_name": "Python 3 (ipykernel)",
   "language": "python",
   "name": "python3"
  },
  "language_info": {
   "codemirror_mode": {
    "name": "ipython",
    "version": 3
   },
   "file_extension": ".py",
   "mimetype": "text/x-python",
   "name": "python",
   "nbconvert_exporter": "python",
   "pygments_lexer": "ipython3",
   "version": "3.9.13"
  }
 },
 "nbformat": 4,
 "nbformat_minor": 5
}
